{
 "cells": [
  {
   "cell_type": "code",
   "execution_count": null,
   "metadata": {
    "collapsed": true
   },
   "outputs": [],
   "source": []
  },
  {
   "cell_type": "code",
   "execution_count": 34,
   "outputs": [
    {
     "name": "stdout",
     "output_type": "stream",
     "text": [
      "Image in plot: length calculated is 1498.2112668111931 from edges\n",
      "(Large plot). a =0.4618055555555556, b = 2289.3969986357433\n",
      "Length of line is 5530.252523831587. (Large plot).\n",
      "ratioLines = 3.6912367743717667, pixelLocLarge = 2165, pixelLocNew = 586.5242823304051\n",
      "pixelLocNew=586.5242823304051 x=1037, y = 491\n",
      "Selected coordinates: P1=array([1062,  515]), P2=array([1026,  540]).\n",
      "Selected coordinates: P1 = [1062, 515], P2 = [1026, 540]\n"
     ]
    }
   ],
   "source": [
    "import cv2\n",
    "import numpy as np\n",
    "from line_method import click_event, coordinates_on_line\n",
    "##linmethod: pointa = 2208, 1344;    pointb = 1824, 1425\n",
    "# Read RGB image\n",
    "img = cv2.imread('C:\\\\Users\\\\Sander PC\\\\PycharmProjects\\\\InterferometryPython\\\\export\\\\PROC_20230710212856\\\\rawslicesimage\\\\rawslicesimage_Basler_a2A5328-15ucBAS__40087133__20230217_110816090_0009_analyzed_.png')\n",
    "\n",
    "\n",
    "imgblack = cv2.imread('C:\\\\Users\\\\Sander PC\\\\PycharmProjects\\\\InterferometryPython\\\\red square.png')\n",
    "resizedimg = cv2.resize(img, [2400, 1500], interpolation = cv2.INTER_AREA)\n",
    "squareSize = 5\n",
    "resizedImagBlack = cv2.resize(imgblack, [squareSize, squareSize], interpolation = cv2.INTER_AREA)\n",
    "\n",
    "pixellocationLarge = 2165\n",
    "pixellocationLarge2 = 2950\n",
    "\n",
    "\n",
    "def calcLineEquation(x_coords, y_coords):       #For eq   y = ax +b\n",
    "    aL = (y_coords[1]-y_coords[0])/(x_coords[1]-x_coords[0])    #a = dy /dx\n",
    "    bL = y_coords[0] - a * x_coords[0]                          #b = y(x) - a*x\n",
    "    return aL, bL\n",
    "\n",
    "def calcLineLength(edge1, edge2):   #edge1(x,y)    edge2(x,y)\n",
    "    return ((edge2[0] - edge1[0])**2 + (edge2[1] - edge1[1])**2 )**0.5\n",
    "\n",
    "# P1 = [465, 612]     #x,y\n",
    "# P2 = [1737, 342]    #x,y\n",
    "\n",
    "P1 = [467, 611]     #x,y\n",
    "P2 = [1933, 302]    #x,y\n",
    "a, b = calcLineEquation([P1[0], P2[0]], [P1[1], P2[1]])\n",
    "limits = [466, 1937, 112, 1385]     #xmin xmin ymin ymax\n",
    "l = calcLineLength(P1, P2)\n",
    "print(f\"Image in plot: length calculated is {l} from edges\")\n",
    "\n",
    "x_coords = [2208, 1344]\n",
    "y_coords = [1824, 1425]\n",
    "aL, bL = calcLineEquation(x_coords, y_coords)\n",
    "print(f\"(Large plot). a ={aL}, b = {bL}\")\n",
    "limitsL = [0, 5328, 0, 4608]\n",
    "coordinatesLarge, lLarge = coordinates_on_line(aL, bL, limitsL)\n",
    "print(f\"Length of line is {lLarge}. (Large plot).\")\n",
    "\n",
    "ratioLines = lLarge / l\n",
    "pixelLocNew = pixellocationLarge / ratioLines\n",
    "print(f\"ratioLines = {ratioLines}, pixelLocLarge = {pixellocationLarge}, pixelLocNew = {pixelLocNew}\")\n",
    "\n",
    "c = pixelLocNew     #c = length of line (schuine zijde)\n",
    "x_offset = round(c / (np.sqrt(1+a**2)) + 466 - squareSize/2)            #-squareSize/2 to centre it\n",
    "pixely = round(a*(x_offset) + b)\n",
    "y_offset = pixely\n",
    "print(f\"pixelLocNew={pixelLocNew} x={x_offset}, y = {y_offset}\")\n",
    "\n",
    "resizedimg[y_offset:y_offset+resizedImagBlack.shape[0], x_offset:x_offset+resizedImagBlack.shape[1]] = resizedImagBlack\n",
    "cv2.imshow('image', resizedimg)\n",
    "right_clicks = []\n",
    "def click_event(event, x, y, flags, params):\n",
    "    if event == cv2.EVENT_LBUTTONDOWN:\n",
    "        right_clicks.append([x, y])\n",
    "    if len(right_clicks) == 2:\n",
    "        cv2.destroyAllWindows()\n",
    "\n",
    "cv2.setMouseCallback('image', click_event)\n",
    "cv2.waitKey(0)\n",
    "\n",
    "P1 = np.array(right_clicks[0])\n",
    "P2 = np.array(right_clicks[1])\n",
    "print(f\"Selected coordinates: {P1=}, {P2=}.\")\n",
    "print(f\"Selected coordinates: P1 = [{P1[0]:.0f}, {P1[1]:.0f}], P2 = [{P2[0]:.0f}, {P2[1]:.0f}]\")\n",
    "\n",
    "cv2.destroyAllWindows()\n"
   ],
   "metadata": {
    "collapsed": false
   }
  }
 ],
 "metadata": {
  "kernelspec": {
   "display_name": "Python 3",
   "language": "python",
   "name": "python3"
  },
  "language_info": {
   "codemirror_mode": {
    "name": "ipython",
    "version": 2
   },
   "file_extension": ".py",
   "mimetype": "text/x-python",
   "name": "python",
   "nbconvert_exporter": "python",
   "pygments_lexer": "ipython2",
   "version": "2.7.6"
  }
 },
 "nbformat": 4,
 "nbformat_minor": 0
}

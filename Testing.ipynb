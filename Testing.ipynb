{
 "cells": [
  {
   "cell_type": "code",
   "execution_count": null,
   "metadata": {
    "collapsed": true,
    "pycharm": {
     "is_executing": true
    }
   },
   "outputs": [],
   "source": [
    "print(\"test\")"
   ]
  },
  {
   "cell_type": "markdown",
   "source": [],
   "metadata": {
    "collapsed": false
   }
  },
  {
   "cell_type": "code",
   "execution_count": 11,
   "outputs": [
    {
     "name": "stdout",
     "output_type": "stream",
     "text": [
      "Length of line is 2172.0. (Image in plot)\n",
      "(Large plot). a =0.8271604938271605, b = 320.023964\n",
      "Length of line is 6727.57713524293. (Large plot)\n",
      "ratioLines = 3.6326010449475863, pixelLocLarge = 2250, pixelLocNew = 619.39089158426\n",
      "pixelLocNew=619.39089158426 x=938, y = 593\n",
      "Selected coordinates: P1=array([471, 203]), P2=array([1067,  697]).\n",
      "Selected coordinates: P1 = [471, 203], P2 = [1067, 697]\n"
     ]
    }
   ],
   "source": [
    "import cv2\n",
    "import numpy as np\n",
    "from line_method import click_event, coordinates_on_line\n",
    "##linmethod: pointa = 1766, 1782; pointb = 1928, 1916\n",
    "# Read RGB image\n",
    "img = cv2.imread('I:\\\\2023_04_06_PLMA_HexaDecane_Basler2x_Xp1_24_s11_split____GOODHALO-DidntReachSplit\\\\D_analysis_v2\\PROC_20230612121104\\\\rawslicesimage\\\\rawslicesimage_Basler_a2A5328-15ucBAS__40087133__20230406_131652896_0023_analyzed_.png')\n",
    "\n",
    "\n",
    "imgblack = cv2.imread('C:\\\\Users\\\\Sander PC\\\\PycharmProjects\\\\InterferometryPython\\\\red square.png')\n",
    "resizedimg = cv2.resize(img, [2400, 1500], interpolation = cv2.INTER_AREA)\n",
    "squareSize = 10\n",
    "resizedImagBlack = cv2.resize(imgblack, [squareSize, squareSize], interpolation = cv2.INTER_AREA)\n",
    "\n",
    "pixellocationLarge = 2250\n",
    "pixellocationLarge2 = 2950\n",
    "\n",
    "#x_offset = 468\n",
    "#y_offset = 114\n",
    "\n",
    "a = 0.827846\n",
    "b = -183.776\n",
    "limits = [466, 1937, 112, 1385]     #xmin xmin ymin ymax\n",
    "coordinates, l = coordinates_on_line(a, b, limits)      #INCORRECT VGM. ZELF BEREKEND=1852\n",
    "print(f\"Length of line is {l}. (Image in plot)\")\n",
    "\n",
    "x_coords = [1766, 1928]\n",
    "y_coords = [1782, 1916]\n",
    "aL = (y_coords[1]-y_coords[0])/(x_coords[1]-x_coords[0])\n",
    "bL = y_coords[0] - a * x_coords[0]\n",
    "print(f\"(Large plot). a ={aL}, b = {bL}\")\n",
    "limitsL = [0, 5328, 0, 4608]\n",
    "coordinatesLarge, lLarge = coordinates_on_line(aL, bL, limitsL)\n",
    "print(f\"Length of line is {lLarge}. (Large plot)\")\n",
    "\n",
    "ratioLines = lLarge / 1852\n",
    "pixelLocNew = pixellocationLarge / ratioLines\n",
    "print(f\"ratioLines = {ratioLines}, pixelLocLarge = {pixellocationLarge}, pixelLocNew = {pixelLocNew}\")\n",
    "#pixely = round(a*(pixelLocNew+466) + b)\n",
    "\n",
    "#x_offset = round(pixelLocNew)  + 466\n",
    "#y_offset = pixely\n",
    "\n",
    "c = pixelLocNew     #c = length of line (schuine zijde)\n",
    "#x_offset = round((-a*b + np.sqrt(c**2 + a**2 * c**2 - b**2)) / (1+a**2))\n",
    "x_offset = round(c / (np.sqrt(1+a**2)) + 466 - squareSize/2)            #-squareSize/2 to centre it\n",
    "pixely = round(a*(x_offset) + b)\n",
    "y_offset = pixely\n",
    "print(f\"pixelLocNew={pixelLocNew} x={x_offset}, y = {y_offset}\")\n",
    "\n",
    "resizedimg[y_offset:y_offset+resizedImagBlack.shape[0], x_offset:x_offset+resizedImagBlack.shape[1]] = resizedImagBlack\n",
    "cv2.imshow('image', resizedimg)\n",
    "right_clicks = []\n",
    "def click_event(event, x, y, flags, params):\n",
    "    if event == cv2.EVENT_LBUTTONDOWN:\n",
    "        right_clicks.append([x, y])\n",
    "    if len(right_clicks) == 2:\n",
    "        cv2.destroyAllWindows()\n",
    "\n",
    "cv2.setMouseCallback('image', click_event)\n",
    "cv2.waitKey(0)\n",
    "\n",
    "P1 = np.array(right_clicks[0])\n",
    "P2 = np.array(right_clicks[1])\n",
    "print(f\"Selected coordinates: {P1=}, {P2=}.\")\n",
    "print(f\"Selected coordinates: P1 = [{P1[0]:.0f}, {P1[1]:.0f}], P2 = [{P2[0]:.0f}, {P2[1]:.0f}]\")\n",
    "\n",
    "cv2.destroyAllWindows()\n"
   ],
   "metadata": {
    "collapsed": false
   }
  }
 ],
 "metadata": {
  "kernelspec": {
   "display_name": "Python 3",
   "language": "python",
   "name": "python3"
  },
  "language_info": {
   "codemirror_mode": {
    "name": "ipython",
    "version": 2
   },
   "file_extension": ".py",
   "mimetype": "text/x-python",
   "name": "python",
   "nbconvert_exporter": "python",
   "pygments_lexer": "ipython2",
   "version": "2.7.6"
  }
 },
 "nbformat": 4,
 "nbformat_minor": 0
}
